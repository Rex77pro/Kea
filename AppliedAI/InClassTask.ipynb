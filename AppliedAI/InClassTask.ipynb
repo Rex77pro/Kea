{
 "cells": [
  {
   "cell_type": "code",
   "execution_count": 28,
   "id": "cdb996d1",
   "metadata": {},
   "outputs": [],
   "source": [
    "import os\n",
    "import math\n",
    "import random\n",
    "import subprocess\n",
    "from tqdm import tqdm\n",
    "import numpy as np\n",
    "import matplotlib.pyplot as plt"
   ]
  },
  {
   "cell_type": "code",
   "execution_count": 29,
   "id": "91616792",
   "metadata": {},
   "outputs": [
    {
     "name": "stdout",
     "output_type": "stream",
     "text": [
      "x [1, 3, 4.5, 5.5]\n",
      "y [2.5, 3, 3, 3.5]\n"
     ]
    }
   ],
   "source": [
    "x = [1, 3, 4.5, 5.5]\n",
    "y = [2.5, 3, 3, 3.5]\n",
    "\n",
    "print('x', x)\n",
    "print('y', y)"
   ]
  },
  {
   "cell_type": "code",
   "execution_count": 30,
   "id": "3c934abb-3c28-43a4-9686-e662d85c3ecf",
   "metadata": {},
   "outputs": [
    {
     "name": "stdout",
     "output_type": "stream",
     "text": [
      "theta [2.19567337 0.22364901]\n",
      "Creating image files ...\n"
     ]
    },
    {
     "name": "stderr",
     "output_type": "stream",
     "text": [
      "100%|██████████| 800/800 [01:00<00:00, 13.27it/s]\n"
     ]
    },
    {
     "name": "stdout",
     "output_type": "stream",
     "text": [
      "Creating image palette ...\n",
      "Crating animated gif file ...\n",
      "Done!\n"
     ]
    }
   ],
   "source": [
    "def h(theta, x):\n",
    "    return theta[0] + theta[1] * x\n",
    "\n",
    "\n",
    "def gradient_step(theta, x, y, alpha, verbose=False):\n",
    "    if verbose: print(\"Gradient step \", theta, x, y, alpha)\n",
    "    delta = np.zeros(np.shape(theta))\n",
    "    m = len(y)\n",
    "    for i in range(m):\n",
    "        delta[0] -= (2/float(m)) * (y[i] - h(theta, x[i]))\n",
    "        delta[1] -= (2/float(m)) * (y[i] - h(theta, x[i])) * x[i]\n",
    "        if verbose: print(i, delta)\n",
    "    if verbose:\n",
    "        print(\"Theta\", theta - alpha * delta)\n",
    "        print(\"Cost\", sum(1/(2*m) * np.square(h(theta, np.array(x)) - np.array(y))))\n",
    "    return theta - alpha * delta\n",
    "\n",
    "\n",
    "def gradient_descent(x, y, initial_theta, alpha, iterations, verbose=False):\n",
    "    theta_history = []\n",
    "    theta = initial_theta\n",
    "    for i in range(iterations):\n",
    "        if verbose: print(\"** Iteration \", i)\n",
    "        theta = gradient_step(theta, x, y, alpha, verbose)\n",
    "        theta_history.append(theta)\n",
    "    return theta, theta_history\n",
    "\n",
    "\n",
    "theta, theta_history = gradient_descent(x, y, np.array([0,0]), 0.01, 800)\n",
    "\n",
    "print('theta', theta)\n",
    "\n",
    "xmin, xmax = min(x), max(x)\n",
    "ymin, ymax = min(y), max(y)\n",
    "\n",
    "\n",
    "# clean up output directory\n",
    "img_path = 'img/'\n",
    "if not os.path.exists(img_path):\n",
    "    os.makedirs(img_path)\n",
    "img_files = os.listdir(img_path)\n",
    "for img_file in img_files:\n",
    "    img_file_path = os.path.join(img_path, img_file)\n",
    "    if os.path.isfile(img_file_path):\n",
    "        os.remove(img_file_path)\n",
    "\n",
    "\n",
    "print('Creating image files ...')\n",
    "for i, theta in enumerate(tqdm(theta_history)):\n",
    "    plt.scatter(x, y)\n",
    "    plt.xlim(math.floor(xmin), math.ceil(xmax))\n",
    "    plt.ylim(math.floor(ymin), math.ceil(ymax))\n",
    "    a = np.linspace(xmin, xmax, 2)\n",
    "    b = theta[0] + a * theta[1]\n",
    "    plt.plot(a, b)\n",
    "    plt.title(f'Iterations:{i:004}')\n",
    "    plt.savefig(f'{img_path}{i:004}.png')\n",
    "    plt.close()\n",
    "\n",
    "\n",
    "print('Creating image palette ...')\n",
    "ffmpeg_command_create_palette = [\n",
    "    'ffmpeg',\n",
    "    '-y',\n",
    "    '-i', f'{img_path}%04d.png',\n",
    "    '-vf', 'palettegen',\n",
    "    'palette.png',\n",
    "]\n",
    "subprocess.call(ffmpeg_command_create_palette)\n",
    "\n",
    "\n",
    "print('Crating animated gif file ...')\n",
    "ffmpeg_command = [\n",
    "    'ffmpeg',\n",
    "    '-y',\n",
    "    '-i', f'{img_path}%04d.png',\n",
    "    '-i', 'palette.png',\n",
    "    '-filter_complex', 'fps=60,scale=600:-1:flags=lanczos[x];[x] [1:v]paletteuse',\n",
    "    'gdanim.gif',\n",
    "]\n",
    "subprocess.call(ffmpeg_command)\n",
    "\n",
    "print('Done!')\n"
   ]
  },
  {
   "cell_type": "code",
   "execution_count": null,
   "id": "c904583c-3117-441a-b65c-c2c951a43fcd",
   "metadata": {},
   "outputs": [],
   "source": []
  }
 ],
 "metadata": {
  "kernelspec": {
   "display_name": "appliedai-nCfoGtEw-py3.10",
   "language": "python",
   "name": "python3"
  },
  "language_info": {
   "codemirror_mode": {
    "name": "ipython",
    "version": 3
   },
   "file_extension": ".py",
   "mimetype": "text/x-python",
   "name": "python",
   "nbconvert_exporter": "python",
   "pygments_lexer": "ipython3",
   "version": "3.10.11"
  }
 },
 "nbformat": 4,
 "nbformat_minor": 5
}
