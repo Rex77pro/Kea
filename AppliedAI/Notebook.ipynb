{
 "cells": [
  {
   "cell_type": "code",
   "execution_count": null,
   "id": "116d7974-0a03-430a-849c-2f3964ce9913",
   "metadata": {},
   "outputs": [
    {
     "ename": "ValueError",
     "evalue": "no field of name income",
     "output_type": "error",
     "traceback": [
      "\u001b[1;31m---------------------------------------------------------------------------\u001b[0m",
      "\u001b[1;31mValueError\u001b[0m                                Traceback (most recent call last)",
      "Cell \u001b[1;32mIn[1], line 9\u001b[0m\n\u001b[0;32m      6\u001b[0m data \u001b[38;5;241m=\u001b[39m np\u001b[38;5;241m.\u001b[39mgenfromtxt(csv_path, delimiter\u001b[38;5;241m=\u001b[39m\u001b[38;5;124m'\u001b[39m\u001b[38;5;124m,\u001b[39m\u001b[38;5;124m'\u001b[39m, names\u001b[38;5;241m=\u001b[39m\u001b[38;5;28;01mTrue\u001b[39;00m)\n\u001b[0;32m      8\u001b[0m \u001b[38;5;66;03m# Beregn gennemsnit og median for 'income'\u001b[39;00m\n\u001b[1;32m----> 9\u001b[0m income_mean \u001b[38;5;241m=\u001b[39m np\u001b[38;5;241m.\u001b[39mmean(\u001b[43mdata\u001b[49m\u001b[43m[\u001b[49m\u001b[38;5;124;43m'\u001b[39;49m\u001b[38;5;124;43mincome\u001b[39;49m\u001b[38;5;124;43m'\u001b[39;49m\u001b[43m]\u001b[49m)\n\u001b[0;32m     10\u001b[0m income_median \u001b[38;5;241m=\u001b[39m np\u001b[38;5;241m.\u001b[39mmedian(data[\u001b[38;5;124m'\u001b[39m\u001b[38;5;124mincome\u001b[39m\u001b[38;5;124m'\u001b[39m])\n\u001b[0;32m     12\u001b[0m \u001b[38;5;66;03m# Beregn gennemsnit og median for 'wealth'\u001b[39;00m\n",
      "\u001b[1;31mValueError\u001b[0m: no field of name income"
     ]
    }
   ],
   "source": [
    "import numpy as np\n",
    "import pandas as pd\n",
    "\n",
    "csv_path = r\"C:\\\\Users\\\\smaur\\\\Code\\\\Kea\\\\AppliedAI\\\\wealth_income_dataset.csv\"\n",
    "\n",
    "data = np.genfromtxt(csv_path, delimiter=',', names=True)\n",
    "\n",
    "# Beregn gennemsnit og median for 'income'\n",
    "income_mean = np.mean(data['income'])\n",
    "income_median = np.median(data['income'])\n",
    "\n",
    "# Beregn gennemsnit og median for 'wealth'\n",
    "wealth_mean = np.mean(data['wealth'])\n",
    "wealth_median = np.median(data['wealth'])\n",
    "\n",
    "print(\"Income - Mean:\", income_mean, \"Median:\", income_median)\n",
    "print(\"Wealth - Mean:\", wealth_mean, \"Median:\", wealth_median)"
   ]
  },
  {
   "cell_type": "code",
   "execution_count": null,
   "id": "8137eadc-a977-453b-8913-e958904e7432",
   "metadata": {},
   "outputs": [],
   "source": [
    "55.124 - 343.785\n",
    "46.074 - 255.175"
   ]
  },
  {
   "cell_type": "code",
   "execution_count": null,
   "id": "63f688f2-1e44-4fe5-bf6b-02bad5d57076",
   "metadata": {},
   "outputs": [],
   "source": []
  },
  {
   "cell_type": "code",
   "execution_count": null,
   "id": "79c82f03-ad3c-4f13-9db3-30d033193a83",
   "metadata": {},
   "outputs": [],
   "source": []
  },
  {
   "cell_type": "code",
   "execution_count": null,
   "id": "a6aee403-060a-4136-910f-c5710d901a7f",
   "metadata": {},
   "outputs": [],
   "source": []
  }
 ],
 "metadata": {
  "kernelspec": {
   "display_name": "Python 3",
   "language": "python",
   "name": "python3"
  },
  "language_info": {
   "codemirror_mode": {
    "name": "ipython",
    "version": 3
   },
   "file_extension": ".py",
   "mimetype": "text/x-python",
   "name": "python",
   "nbconvert_exporter": "python",
   "pygments_lexer": "ipython3",
   "version": "3.10.11"
  }
 },
 "nbformat": 4,
 "nbformat_minor": 5
}
