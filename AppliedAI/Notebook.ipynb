{
 "cells": [
  {
   "cell_type": "code",
   "execution_count": 2,
   "id": "116d7974-0a03-430a-849c-2f3964ce9913",
   "metadata": {},
   "outputs": [
    {
     "name": "stdout",
     "output_type": "stream",
     "text": [
      "('Income', 'Wealth', 'Age', 'Education', 'Employment_Status')\n"
     ]
    }
   ],
   "source": [
    "import numpy as np\n",
    "import pandas as pd\n",
    "\n",
    "csv_path = r\"C:\\\\Users\\\\smaur\\\\Code\\\\Kea\\\\AppliedAI\\\\wealth_income_dataset.csv\"\n",
    "df = pd.read_csv(csv_path)\n",
    "\n",
    "print(data.dtype.names)\n",
    "\n"
   ]
  },
  {
   "cell_type": "code",
   "execution_count": null,
   "id": "8137eadc-a977-453b-8913-e958904e7432",
   "metadata": {},
   "outputs": [],
   "source": [
    "55.124 - 343.785\n",
    "46.074 - 255.175"
   ]
  },
  {
   "cell_type": "code",
   "execution_count": 5,
   "id": "797f2e99-21af-4318-8a54-0a3b4e18b78e",
   "metadata": {},
   "outputs": [
    {
     "name": "stdout",
     "output_type": "stream",
     "text": [
      "Income - Mean: 55124.55072380999 Median: 46074.369999999995\n",
      "Wealth - Mean: 343785.0316191401 Median: 251173.265\n"
     ]
    }
   ],
   "source": [
    "data = np.genfromtxt(csv_path, delimiter=',', names=True)\n",
    "\n",
    "# Beregn gennemsnit og median for 'income'\n",
    "income_mean = np.mean(data['Income'])\n",
    "income_median = np.median(data['Income'])\n",
    "\n",
    "# Beregn gennemsnit og median for 'wealth'\n",
    "wealth_mean = np.mean(data['Wealth'])\n",
    "wealth_median = np.median(data['Wealth'])\n",
    "\n",
    "print(\"Income - Mean:\", income_mean, \"Median:\", income_median)\n",
    "print(\"Wealth - Mean:\", wealth_mean, \"Median:\", wealth_median)"
   ]
  },
  {
   "cell_type": "code",
   "execution_count": null,
   "id": "b2e3c6f4-27e2-40fb-afdf-455913e9d4a9",
   "metadata": {},
   "outputs": [],
   "source": []
  }
 ],
 "metadata": {
  "kernelspec": {
   "display_name": "Python 3",
   "language": "python",
   "name": "python3"
  },
  "language_info": {
   "codemirror_mode": {
    "name": "ipython",
    "version": 3
   },
   "file_extension": ".py",
   "mimetype": "text/x-python",
   "name": "python",
   "nbconvert_exporter": "python",
   "pygments_lexer": "ipython3",
   "version": "3.10.11"
  }
 },
 "nbformat": 4,
 "nbformat_minor": 5
}
