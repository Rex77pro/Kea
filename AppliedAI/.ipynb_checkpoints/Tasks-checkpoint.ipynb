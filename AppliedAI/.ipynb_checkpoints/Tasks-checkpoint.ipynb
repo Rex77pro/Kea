{
 "cells": [
  {
   "cell_type": "code",
   "execution_count": 1,
   "id": "9bbe1ec4-530d-46dc-b0af-67a79f4f6a26",
   "metadata": {},
   "outputs": [],
   "source": [
    "import numpy as np\n",
    "import matplotlib.pyplot as plt"
   ]
  },
  {
   "cell_type": "code",
   "execution_count": 2,
   "id": "ed5612c4-0f55-4a5f-a7aa-002e17a4993e",
   "metadata": {},
   "outputs": [
    {
     "ename": "NameError",
     "evalue": "name 'pyplot' is not defined",
     "output_type": "error",
     "traceback": [
      "\u001b[1;31m---------------------------------------------------------------------------\u001b[0m",
      "\u001b[1;31mNameError\u001b[0m                                 Traceback (most recent call last)",
      "Cell \u001b[1;32mIn[2], line 2\u001b[0m\n\u001b[0;32m      1\u001b[0m x_axis \u001b[38;5;241m=\u001b[39m np\u001b[38;5;241m.\u001b[39mlinspace(\u001b[38;5;241m0\u001b[39m, \u001b[38;5;241m5000\u001b[39m, \u001b[38;5;241m500\u001b[39m)\n\u001b[1;32m----> 2\u001b[0m \u001b[43mpyplot\u001b[49m\u001b[38;5;241m.\u001b[39mplot(x_axis, cost_history[\u001b[38;5;241m5\u001b[39m:\u001b[38;5;241m505\u001b[39m])\n\u001b[0;32m      3\u001b[0m pyplot\u001b[38;5;241m.\u001b[39mtitle(\u001b[38;5;124m\"\u001b[39m\u001b[38;5;124mCost of approximation\u001b[39m\u001b[38;5;124m\"\u001b[39m)\n\u001b[0;32m      4\u001b[0m pyplot\u001b[38;5;241m.\u001b[39mxlabel(\u001b[38;5;124m\"\u001b[39m\u001b[38;5;124mIterations\u001b[39m\u001b[38;5;124m\"\u001b[39m)\n",
      "\u001b[1;31mNameError\u001b[0m: name 'pyplot' is not defined"
     ]
    }
   ],
   "source": [
    "x_axis = np.linspace(0, 5000, 500)\n",
    "plt.plot(x_axis, cost_history[5:505])\n",
    "plt.title(\"Cost of approximation\")\n",
    "plt.xlabel(\"Iterations\")\n",
    "plt.ylabel(\"Cost\")"
   ]
  },
  {
   "cell_type": "code",
   "execution_count": null,
   "id": "4c5b7ea4-9140-464f-bf3c-1de174ae5a3f",
   "metadata": {},
   "outputs": [],
   "source": []
  }
 ],
 "metadata": {
  "kernelspec": {
   "display_name": "Python 3 (ipykernel)",
   "language": "python",
   "name": "python3"
  },
  "language_info": {
   "codemirror_mode": {
    "name": "ipython",
    "version": 3
   },
   "file_extension": ".py",
   "mimetype": "text/x-python",
   "name": "python",
   "nbconvert_exporter": "python",
   "pygments_lexer": "ipython3",
   "version": "3.10.11"
  }
 },
 "nbformat": 4,
 "nbformat_minor": 5
}
